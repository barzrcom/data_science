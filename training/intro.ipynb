{
 "cells": [
  {
   "cell_type": "code",
   "execution_count": 26,
   "metadata": {
    "collapsed": false
   },
   "outputs": [],
   "source": [
    "\"\"\"\n",
    "Task-1:\n",
    "    Convert all characters to dictionary keys with they ascii value of it.\n",
    "\"\"\"\n",
    "\n",
    "import string\n",
    "\n",
    "letters = string.ascii_letters\n",
    "\n",
    "char_to_int = {key: ord(key) for key in letters}\n"
   ]
  },
  {
   "cell_type": "code",
   "execution_count": 27,
   "metadata": {},
   "outputs": [],
   "source": [
    "\"\"\"\n",
    "Task-2:\n",
    "    Take all keys from given list and count how many times they appear.\n",
    "\"\"\"\n",
    "\n",
    "my_list = [\"a\", \"aaa\", \"b\", \"c\", \"b\", \"b\"]\n",
    "\n",
    "group_by = {key: my_list.count(key) for key in my_list}\n"
   ]
  },
  {
   "cell_type": "code",
   "execution_count": null,
   "metadata": {},
   "outputs": [],
   "source": []
  }
 ],
 "metadata": {
  "kernelspec": {
   "display_name": "Python 2",
   "language": "python",
   "name": "python2"
  },
  "language_info": {
   "codemirror_mode": {
    "name": "ipython",
    "version": 2
   },
   "file_extension": ".py",
   "mimetype": "text/x-python",
   "name": "python",
   "nbconvert_exporter": "python",
   "pygments_lexer": "ipython2",
   "version": "2.7.6"
  }
 },
 "nbformat": 4,
 "nbformat_minor": 0
}
