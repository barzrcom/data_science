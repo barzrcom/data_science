{
 "cells": [
  {
   "cell_type": "code",
   "execution_count": 40,
   "metadata": {
    "collapsed": true
   },
   "outputs": [],
   "source": [
    "import numpy as np\n",
    "import pandas as pd\n",
    "from IPython.display import display\n",
    "import matplotlib.pyplot as plt\n",
    "import seaborn as sns \n",
    "from sklearn import preprocessing\n",
    "\n",
    "%matplotlib inline"
   ]
  },
  {
   "cell_type": "code",
   "execution_count": 41,
   "metadata": {
    "collapsed": true
   },
   "outputs": [
    {
     "data": {
      "text/html": [
       "<div>\n",
       "<style scoped>\n",
       "    .dataframe tbody tr th:only-of-type {\n",
       "        vertical-align: middle;\n",
       "    }\n",
       "\n",
       "    .dataframe tbody tr th {\n",
       "        vertical-align: top;\n",
       "    }\n",
       "\n",
       "    .dataframe thead th {\n",
       "        text-align: right;\n",
       "    }\n",
       "</style>\n",
       "<table border=\"1\" class=\"dataframe\">\n",
       "  <thead>\n",
       "    <tr style=\"text-align: right;\">\n",
       "      <th></th>\n",
       "      <th>Unnamed: 0</th>\n",
       "      <th>Snapshot ID</th>\n",
       "      <th>Days</th>\n",
       "      <th>Original Price</th>\n",
       "      <th>Discount Price</th>\n",
       "      <th>Discount Code</th>\n",
       "      <th>Available Rooms</th>\n",
       "      <th>Hotel Stars</th>\n",
       "      <th>DayDiff</th>\n",
       "      <th>DiscountDiff</th>\n",
       "      <th>DiscountPerc</th>\n",
       "    </tr>\n",
       "  </thead>\n",
       "  <tbody>\n",
       "    <tr>\n",
       "      <th>count</th>\n",
       "      <td>187848.000000</td>\n",
       "      <td>187848.000000</td>\n",
       "      <td>187848.0</td>\n",
       "      <td>187848.000000</td>\n",
       "      <td>187848.000000</td>\n",
       "      <td>187848.000000</td>\n",
       "      <td>187848.000000</td>\n",
       "      <td>187848.000000</td>\n",
       "      <td>187848.000000</td>\n",
       "      <td>187848.000000</td>\n",
       "      <td>187848.000000</td>\n",
       "    </tr>\n",
       "    <tr>\n",
       "      <th>mean</th>\n",
       "      <td>93923.500000</td>\n",
       "      <td>351.643451</td>\n",
       "      <td>5.0</td>\n",
       "      <td>1825.742143</td>\n",
       "      <td>1673.172283</td>\n",
       "      <td>2.434186</td>\n",
       "      <td>14.588561</td>\n",
       "      <td>3.905823</td>\n",
       "      <td>0.579176</td>\n",
       "      <td>152.569860</td>\n",
       "      <td>8.877715</td>\n",
       "    </tr>\n",
       "    <tr>\n",
       "      <th>std</th>\n",
       "      <td>54227.191021</td>\n",
       "      <td>1007.348927</td>\n",
       "      <td>0.0</td>\n",
       "      <td>1042.355712</td>\n",
       "      <td>983.618013</td>\n",
       "      <td>1.005191</td>\n",
       "      <td>41.575482</td>\n",
       "      <td>0.846496</td>\n",
       "      <td>11.746683</td>\n",
       "      <td>143.316985</td>\n",
       "      <td>6.030248</td>\n",
       "    </tr>\n",
       "    <tr>\n",
       "      <th>min</th>\n",
       "      <td>0.000000</td>\n",
       "      <td>1.000000</td>\n",
       "      <td>5.0</td>\n",
       "      <td>289.000000</td>\n",
       "      <td>260.000000</td>\n",
       "      <td>1.000000</td>\n",
       "      <td>-1.000000</td>\n",
       "      <td>0.000000</td>\n",
       "      <td>-30.000000</td>\n",
       "      <td>15.000000</td>\n",
       "      <td>0.581395</td>\n",
       "    </tr>\n",
       "    <tr>\n",
       "      <th>25%</th>\n",
       "      <td>46961.750000</td>\n",
       "      <td>150.000000</td>\n",
       "      <td>5.0</td>\n",
       "      <td>1160.000000</td>\n",
       "      <td>1035.000000</td>\n",
       "      <td>2.000000</td>\n",
       "      <td>-1.000000</td>\n",
       "      <td>3.000000</td>\n",
       "      <td>-7.000000</td>\n",
       "      <td>70.000000</td>\n",
       "      <td>4.844961</td>\n",
       "    </tr>\n",
       "    <tr>\n",
       "      <th>50%</th>\n",
       "      <td>93923.500000</td>\n",
       "      <td>439.000000</td>\n",
       "      <td>5.0</td>\n",
       "      <td>1599.000000</td>\n",
       "      <td>1475.000000</td>\n",
       "      <td>2.000000</td>\n",
       "      <td>-1.000000</td>\n",
       "      <td>4.000000</td>\n",
       "      <td>-1.000000</td>\n",
       "      <td>103.000000</td>\n",
       "      <td>7.056229</td>\n",
       "    </tr>\n",
       "    <tr>\n",
       "      <th>75%</th>\n",
       "      <td>140885.250000</td>\n",
       "      <td>506.000000</td>\n",
       "      <td>5.0</td>\n",
       "      <td>2160.000000</td>\n",
       "      <td>1963.250000</td>\n",
       "      <td>3.000000</td>\n",
       "      <td>8.000000</td>\n",
       "      <td>4.000000</td>\n",
       "      <td>8.000000</td>\n",
       "      <td>180.000000</td>\n",
       "      <td>10.933941</td>\n",
       "    </tr>\n",
       "    <tr>\n",
       "      <th>max</th>\n",
       "      <td>187847.000000</td>\n",
       "      <td>417419.000000</td>\n",
       "      <td>5.0</td>\n",
       "      <td>29975.000000</td>\n",
       "      <td>28675.000000</td>\n",
       "      <td>4.000000</td>\n",
       "      <td>431.000000</td>\n",
       "      <td>5.000000</td>\n",
       "      <td>30.000000</td>\n",
       "      <td>3760.000000</td>\n",
       "      <td>68.425842</td>\n",
       "    </tr>\n",
       "  </tbody>\n",
       "</table>\n",
       "</div>"
      ],
      "text/plain": [
       "<div>\n",
       "<style scoped>\n",
       "    .dataframe tbody tr th:only-of-type {\n",
       "        vertical-align: middle;\n",
       "    }\n",
       "\n",
       "    .dataframe tbody tr th {\n",
       "        vertical-align: top;\n",
       "    }\n",
       "\n",
       "    .dataframe thead th {\n",
       "        text-align: right;\n",
       "    }\n",
       "</style>\n",
       "<table border=\"1\" class=\"dataframe\">\n",
       "  <thead>\n",
       "    <tr style=\"text-align: right;\">\n",
       "      <th></th>\n",
       "      <th>Unnamed: 0</th>\n",
       "      <th>Snapshot ID</th>\n",
       "      <th>Days</th>\n",
       "      <th>Original Price</th>\n",
       "      <th>Discount Price</th>\n",
       "      <th>Discount Code</th>\n",
       "      <th>Available Rooms</th>\n",
       "      <th>Hotel Stars</th>\n",
       "      <th>DayDiff</th>\n",
       "      <th>DiscountDiff</th>\n",
       "      <th>DiscountPerc</th>\n",
       "    </tr>\n",
       "  </thead>\n",
       "  <tbody>\n",
       "    <tr>\n",
       "      <th>count</th>\n",
       "      <td>187848.000000</td>\n",
       "      <td>187848.000000</td>\n",
       "      <td>187848.0</td>\n",
       "      <td>187848.000000</td>\n",
       "      <td>187848.000000</td>\n",
       "      <td>187848.000000</td>\n",
       "      <td>187848.000000</td>\n",
       "      <td>187848.000000</td>\n",
       "      <td>187848.000000</td>\n",
       "      <td>187848.000000</td>\n",
       "      <td>187848.000000</td>\n",
       "    </tr>\n",
       "    <tr>\n",
       "      <th>mean</th>\n",
       "      <td>93923.500000</td>\n",
       "      <td>351.643451</td>\n",
       "      <td>5.0</td>\n",
       "      <td>1825.742143</td>\n",
       "      <td>1673.172283</td>\n",
       "      <td>2.434186</td>\n",
       "      <td>14.588561</td>\n",
       "      <td>3.905823</td>\n",
       "      <td>0.579176</td>\n",
       "      <td>152.569860</td>\n",
       "      <td>8.877715</td>\n",
       "    </tr>\n",
       "    <tr>\n",
       "      <th>std</th>\n",
       "      <td>54227.191021</td>\n",
       "      <td>1007.348927</td>\n",
       "      <td>0.0</td>\n",
       "      <td>1042.355712</td>\n",
       "      <td>983.618013</td>\n",
       "      <td>1.005191</td>\n",
       "      <td>41.575482</td>\n",
       "      <td>0.846496</td>\n",
       "      <td>11.746683</td>\n",
       "      <td>143.316985</td>\n",
       "      <td>6.030248</td>\n",
       "    </tr>\n",
       "    <tr>\n",
       "      <th>min</th>\n",
       "      <td>0.000000</td>\n",
       "      <td>1.000000</td>\n",
       "      <td>5.0</td>\n",
       "      <td>289.000000</td>\n",
       "      <td>260.000000</td>\n",
       "      <td>1.000000</td>\n",
       "      <td>-1.000000</td>\n",
       "      <td>0.000000</td>\n",
       "      <td>-30.000000</td>\n",
       "      <td>15.000000</td>\n",
       "      <td>0.581395</td>\n",
       "    </tr>\n",
       "    <tr>\n",
       "      <th>25%</th>\n",
       "      <td>46961.750000</td>\n",
       "      <td>150.000000</td>\n",
       "      <td>5.0</td>\n",
       "      <td>1160.000000</td>\n",
       "      <td>1035.000000</td>\n",
       "      <td>2.000000</td>\n",
       "      <td>-1.000000</td>\n",
       "      <td>3.000000</td>\n",
       "      <td>-7.000000</td>\n",
       "      <td>70.000000</td>\n",
       "      <td>4.844961</td>\n",
       "    </tr>\n",
       "    <tr>\n",
       "      <th>50%</th>\n",
       "      <td>93923.500000</td>\n",
       "      <td>439.000000</td>\n",
       "      <td>5.0</td>\n",
       "      <td>1599.000000</td>\n",
       "      <td>1475.000000</td>\n",
       "      <td>2.000000</td>\n",
       "      <td>-1.000000</td>\n",
       "      <td>4.000000</td>\n",
       "      <td>-1.000000</td>\n",
       "      <td>103.000000</td>\n",
       "      <td>7.056229</td>\n",
       "    </tr>\n",
       "    <tr>\n",
       "      <th>75%</th>\n",
       "      <td>140885.250000</td>\n",
       "      <td>506.000000</td>\n",
       "      <td>5.0</td>\n",
       "      <td>2160.000000</td>\n",
       "      <td>1963.250000</td>\n",
       "      <td>3.000000</td>\n",
       "      <td>8.000000</td>\n",
       "      <td>4.000000</td>\n",
       "      <td>8.000000</td>\n",
       "      <td>180.000000</td>\n",
       "      <td>10.933941</td>\n",
       "    </tr>\n",
       "    <tr>\n",
       "      <th>max</th>\n",
       "      <td>187847.000000</td>\n",
       "      <td>417419.000000</td>\n",
       "      <td>5.0</td>\n",
       "      <td>29975.000000</td>\n",
       "      <td>28675.000000</td>\n",
       "      <td>4.000000</td>\n",
       "      <td>431.000000</td>\n",
       "      <td>5.000000</td>\n",
       "      <td>30.000000</td>\n",
       "      <td>3760.000000</td>\n",
       "      <td>68.425842</td>\n",
       "    </tr>\n",
       "  </tbody>\n",
       "</table>\n",
       "</div>"
      ]
     },
     "execution_count": 41,
     "metadata": {},
     "output_type": "execute_result"
    }
   ],
   "source": [
    "# load dataset\n",
    "df = pd.read_csv(\"project/resources/Hotels_data_Changed.csv\")\n",
    "df.describe()"
   ]
  },
  {
   "cell_type": "code",
   "execution_count": 42,
   "metadata": {},
   "outputs": [
    {
     "data": {
      "text/plain": [
       "Index(['Snapshot Date', 'Checkin Date', 'Hotel Name', 'WeekDay'], dtype='object')"
      ]
     },
     "execution_count": 42,
     "metadata": {},
     "output_type": "execute_result"
    }
   ],
   "source": [
    "df2 = df.select_dtypes(include=[object])\n",
    "df2.columns\n"
   ]
  },
  {
   "cell_type": "code",
   "execution_count": 43,
   "metadata": {
    "collapsed": false
   },
   "outputs": [
    {
     "name": "stdout",
     "output_type": "stream",
     "text": [
      "0    6\n1    6\n2    4\n3    3\n4    6\n5    0\n6    3\n7    6\nName: WeekDay, dtype: int64\n"
     ]
    },
    {
     "data": {
      "text/plain": [
       "['Wednesday',\n 'Wednesday',\n 'Thursday',\n 'Sunday',\n 'Wednesday',\n 'Friday',\n 'Sunday',\n 'Wednesday']"
      ]
     },
     "execution_count": 43,
     "metadata": {},
     "output_type": "execute_result"
    }
   ],
   "source": [
    "# TODO: create a LabelEncoder object and fit it to each feature in X\n",
    "\n",
    "# This would first require an integer encoding, such as 1, 2, 3. This would be followed by a one hot encoding of integers to a binary vector with 3 values, such as [1, 0, 0].\n",
    "\n",
    "# The sequence provides at least one example of every possible value in the sequence. Therefore we can use automatic methods to define the mapping of labels to integers and integers to binary vectors.\n",
    "\n",
    "# In this example, we will use the encoders from the scikit-learn library. Specifically, the LabelEncoder of creating an integer encoding of labels and the OneHotEncoder for creating a one hot encoding of integer encoded values.\n",
    "\n",
    "\n",
    "# 1. INSTANTIATE\n",
    "# encode labels with value between 0 and n_classes-1.\n",
    "# integer encode\n",
    "le = preprocessing.LabelEncoder()\n",
    "\n",
    "# 2/3. FIT AND TRANSFORM\n",
    "# use df.apply() to apply le.fit_transform to all columns\n",
    "integer_encoded = df2.apply(le.fit_transform)\n",
    "print(integer_encoded['WeekDay'].head(8))\n",
    "\n",
    "list(le.inverse_transform(list(integer_encoded['WeekDay'].head(8))))\n"
   ]
  },
  {
   "cell_type": "code",
   "execution_count": 44,
   "metadata": {},
   "outputs": [],
   "source": [
    "for row in integer_encoded:\n",
    "    df[row] = integer_encoded[row]\n"
   ]
  },
  {
   "cell_type": "code",
   "execution_count": 45,
   "metadata": {},
   "outputs": [],
   "source": [
    "from sklearn.model_selection import train_test_split\n",
    "from sklearn.naive_bayes import GaussianNB\n",
    "from sklearn import tree\n",
    "\n",
    "y = df[\"Discount Code\"]\n",
    "# Split dataset in training and test datasets\n",
    "X_train, X_test, y_train, y_test = train_test_split(df, y, test_size=0.5, random_state=int(time.time()))"
   ]
  },
  {
   "cell_type": "code",
   "execution_count": 46,
   "metadata": {},
   "outputs": [],
   "source": [
    "# Instantiate the classifier\n",
    "gnb = GaussianNB()\n",
    "used_features = [\n",
    "    \"WeekDay\",\n",
    "    \"Snapshot Date\",\n",
    "    \"Checkin Date\",\n",
    "    \"DayDiff\",\n",
    "    \"Hotel Name\"\n",
    "]\n",
    "\n",
    "# Train classifier\n",
    "gnb.fit(\n",
    "    X_train[used_features].values,\n",
    "    y_train\n",
    ")\n",
    "y_pred = gnb.predict(X_test[used_features])\n"
   ]
  },
  {
   "cell_type": "code",
   "execution_count": 47,
   "metadata": {},
   "outputs": [
    {
     "name": "stderr",
     "output_type": "stream",
     "text": [
      "/Users/barzrihan/.conda/envs/data_science_02/lib/python3.6/site-packages/scipy/stats/stats.py:1713: FutureWarning: Using a non-tuple sequence for multidimensional indexing is deprecated; use `arr[tuple(seq)]` instead of `arr[seq]`. In the future this will be interpreted as an array index, `arr[np.array(seq)]`, which will result either in an error or a different result.\n  return np.add.reduce(sorted[indexer] * weights, axis=axis) / sumval\n"
     ]
    },
    {
     "data": {
      "text/plain": [
       "<seaborn.axisgrid.JointGrid at 0x1a25737dd8>"
      ]
     },
     "execution_count": 47,
     "metadata": {},
     "output_type": "execute_result"
    },
    {
     "data": {
      "image/png": "[encoded data removed]",
      "text/plain": [
       "<matplotlib.figure.Figure at 0x1a25737cc0>"
      ]
     },
     "metadata": {},
     "output_type": "display_data"
    }
   ],
   "source": [
    "sns.jointplot(y_pred, y_test, kind=\"reg\")"
   ]
  },
  {
   "cell_type": "code",
   "execution_count": 48,
   "metadata": {},
   "outputs": [],
   "source": [
    "from sklearn.metrics import classification_report, confusion_matrix"
   ]
  },
  {
   "cell_type": "code",
   "execution_count": 51,
   "metadata": {},
   "outputs": [
    {
     "name": "stdout",
     "output_type": "stream",
     "text": [
      "[[    0 17398  2063     0]\n [    0 26701  3524     0]\n [    0 24486  3432     0]\n [    0 14568  1752     0]]\n              precision    recall  f1-score   support\n\n           1       0.00      0.00      0.00     19461\n           2       0.32      0.88      0.47     30225\n           3       0.32      0.12      0.18     27918\n           4       0.00      0.00      0.00     16320\n\n   micro avg       0.32      0.32      0.32     93924\n   macro avg       0.16      0.25      0.16     93924\nweighted avg       0.20      0.32      0.20     93924\n\n"
     ]
    },
    {
     "name": "stderr",
     "output_type": "stream",
     "text": [
      "/Users/barzrihan/.conda/envs/data_science_02/lib/python3.6/site-packages/sklearn/metrics/classification.py:1143: UndefinedMetricWarning: Precision and F-score are ill-defined and being set to 0.0 in labels with no predicted samples.\n  'precision', 'predicted', average, warn_for)\n/Users/barzrihan/.conda/envs/data_science_02/lib/python3.6/site-packages/sklearn/metrics/classification.py:1143: UndefinedMetricWarning: Precision and F-score are ill-defined and being set to 0.0 in labels with no predicted samples.\n  'precision', 'predicted', average, warn_for)\n/Users/barzrihan/.conda/envs/data_science_02/lib/python3.6/site-packages/sklearn/metrics/classification.py:1143: UndefinedMetricWarning: Precision and F-score are ill-defined and being set to 0.0 in labels with no predicted samples.\n  'precision', 'predicted', average, warn_for)\n"
     ]
    }
   ],
   "source": [
    "print(confusion_matrix(y_test, y_pred))\n",
    "print(classification_report(y_test, y_pred))"
   ]
  },
  {
   "cell_type": "code",
   "execution_count": 52,
   "metadata": {},
   "outputs": [
    {
     "data": {
      "image/png": "[encoded data removed]",
      "text/plain": [
       "<matplotlib.figure.Figure at 0x11b89f048>"
      ]
     },
     "metadata": {},
     "output_type": "display_data"
    }
   ],
   "source": [
    "ax = sns.heatmap(df[used_features + [\"Discount Code\"]].corr(), cmap='coolwarm', annot=True)\n"
   ]
  },
  {
   "cell_type": "code",
   "execution_count": 53,
   "metadata": {},
   "outputs": [],
   "source": [
    "clf = tree.DecisionTreeClassifier()\n",
    "clf.fit(X=X_train[used_features].values, y=y_train)\n",
    "clf.feature_importances_\n",
    "y_pred = clf.predict(X_test[used_features])"
   ]
  },
  {
   "cell_type": "code",
   "execution_count": 54,
   "metadata": {},
   "outputs": [
    {
     "name": "stdout",
     "output_type": "stream",
     "text": [
      "[[ 6962  7796  3286  1417]\n [ 9029 10531  8319  2346]\n [ 5870  9640  8286  4122]\n [ 3590  4111  4776  3843]]\n              precision    recall  f1-score   support\n\n           1       0.27      0.36      0.31     19461\n           2       0.33      0.35      0.34     30225\n           3       0.34      0.30      0.32     27918\n           4       0.33      0.24      0.27     16320\n\n   micro avg       0.32      0.32      0.32     93924\n   macro avg       0.32      0.31      0.31     93924\nweighted avg       0.32      0.32      0.31     93924\n\n"
     ]
    }
   ],
   "source": [
    "print(confusion_matrix(y_test, y_pred))  \n",
    "print(classification_report(y_test, y_pred))  "
   ]
  },
  {
   "cell_type": "code",
   "execution_count": null,
   "metadata": {},
   "outputs": [],
   "source": [
    "# cross validation\n"
   ]
  }
 ],
 "metadata": {
  "kernelspec": {
   "display_name": "Python 2",
   "language": "python",
   "name": "python2"
  },
  "language_info": {
   "codemirror_mode": {
    "name": "ipython",
    "version": 2
   },
   "file_extension": ".py",
   "mimetype": "text/x-python",
   "name": "python",
   "nbconvert_exporter": "python",
   "pygments_lexer": "ipython2",
   "version": "2.7.6"
  }
 },
 "nbformat": 4,
 "nbformat_minor": 0
}
