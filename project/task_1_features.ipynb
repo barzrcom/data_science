{
 "cells": [
  {
   "cell_type": "code",
   "execution_count": 2,
   "metadata": {
    "collapsed": true
   },
   "outputs": [],
   "source": [
    "import numpy as np\n",
    "import pandas as pd\n",
    "from IPython.display import display\n",
    "import matplotlib.pyplot as plt\n",
    "from datetime import datetime\n",
    "%matplotlib inline"
   ]
  },
  {
   "cell_type": "code",
   "execution_count": 3,
   "metadata": {},
   "outputs": [],
   "source": [
    "old_csv = \"project/hotels_data.csv\"\n",
    "new_csv = \"project/Hotels_data_Changed.csv\""
   ]
  },
  {
   "cell_type": "code",
   "execution_count": 4,
   "metadata": {},
   "outputs": [
    {
     "name": "stdout",
     "output_type": "stream",
     "text": [
      "<class 'pandas.core.frame.DataFrame'>\nIndex(['Snapshot ID', 'Snapshot Date', 'Checkin Date', 'Days',\n       'Original Price', 'Discount Price', 'Discount Code', 'Available Rooms',\n       'Hotel Name', 'Hotel Stars'],\n      dtype='object')\n(187848, 10)\n"
     ]
    }
   ],
   "source": [
    "# Columns\n",
    "try:\n",
    "    df = pd.read_csv(old_csv)\n",
    "    print(type(df))\n",
    "    print(df.columns)\n",
    "    print(df.shape)\n",
    "except Exception:\n",
    "    print(\"Seems we have a problem\")\n",
    "\n"
   ]
  },
  {
   "cell_type": "code",
   "execution_count": 5,
   "metadata": {
    "collapsed": false
   },
   "outputs": [
    {
     "name": "stdout",
     "output_type": "stream",
     "text": [
      "Index(['Snapshot ID', 'Snapshot Date', 'Checkin Date', 'Days',\n       'Original Price', 'Discount Price', 'Discount Code', 'Available Rooms',\n       'Hotel Name', 'Hotel Stars', 'DayDiff'],\n      dtype='object')\n"
     ]
    },
    {
     "data": {
      "text/plain": [
       "0   -26 days\n1   -33 days\n2   -27 days\n3    -9 days\n4   -26 days\n5   -21 days\n6   -23 days\n7   -26 days\n8   -27 days\n9    -5 days\nName: DayDiff, dtype: timedelta64[ns]"
      ]
     },
     "execution_count": 5,
     "metadata": {},
     "output_type": "execute_result"
    }
   ],
   "source": [
    "#   1. DayDiff - מספר הימים בין ה Snapshot Date לבין ה Checkin Date\n",
    "# 7/17/2015 0:00 - 8/12/2015 0:00 = -29\n",
    "\n",
    "df['Snapshot Date'] = pd.to_datetime(df['Snapshot Date'], format=\"%m/%d/%Y 0:00\")\n",
    "df['Checkin Date'] = pd.to_datetime(df['Checkin Date'], format=\"%m/%d/%Y 0:00\")\n",
    "# Calculate difference to apple price\n",
    "df['DayDiff'] = np.array(df['Snapshot Date'] - df['Checkin Date'])\n",
    "\n",
    "print(df.columns)\n",
    "df['DayDiff'].head(10)"
   ]
  },
  {
   "cell_type": "code",
   "execution_count": 6,
   "metadata": {},
   "outputs": [
    {
     "name": "stdout",
     "output_type": "stream",
     "text": [
      "Index(['Snapshot ID', 'Snapshot Date', 'Checkin Date', 'Days',\n       'Original Price', 'Discount Price', 'Discount Code', 'Available Rooms',\n       'Hotel Name', 'Hotel Stars', 'DayDiff', 'WeekDay'],\n      dtype='object')\n"
     ]
    },
    {
     "data": {
      "text/plain": [
       "0    Wednesday\n1    Wednesday\n2     Thursday\n3       Sunday\n4    Wednesday\n5       Friday\n6       Sunday\n7    Wednesday\n8     Thursday\n9    Wednesday\nName: WeekDay, dtype: object"
      ]
     },
     "execution_count": 6,
     "metadata": {},
     "output_type": "execute_result"
    }
   ],
   "source": [
    "#   2. WeekDay - היום בשבוע (Sun/Mon/Tue/Wed/Thu/Fri/Sat) של ה Checkin Date\n",
    "\n",
    "df['WeekDay'] = df['Checkin Date'].dt.weekday_name\n",
    "\n",
    "print(df.columns)\n",
    "df['WeekDay'].head(10)"
   ]
  },
  {
   "cell_type": "code",
   "execution_count": 7,
   "metadata": {},
   "outputs": [
    {
     "name": "stdout",
     "output_type": "stream",
     "text": [
      "Index(['Snapshot ID', 'Snapshot Date', 'Checkin Date', 'Days',\n       'Original Price', 'Discount Price', 'Discount Code', 'Available Rooms',\n       'Hotel Name', 'Hotel Stars', 'DayDiff', 'WeekDay', 'DiscountDiff'],\n      dtype='object')\n"
     ]
    },
    {
     "data": {
      "text/plain": [
       "0    138\n1    131\n2    130\n3     72\n4     67\n5     91\n6     91\n7     73\n8     55\n9    200\nName: DiscountDiff, dtype: int64"
      ]
     },
     "execution_count": 7,
     "metadata": {},
     "output_type": "execute_result"
    }
   ],
   "source": [
    "#   3. DiscountDiff - גובה ההנחה בדולרים (ההפרש בין Original Price ל Discount Price)\n",
    "\n",
    "# Calculate difference to apple price\n",
    "df['DiscountDiff'] = np.array(df['Original Price'] - df['Discount Price'])\n",
    "\n",
    "print(df.columns)\n",
    "df['DiscountDiff'].head(10)"
   ]
  },
  {
   "cell_type": "code",
   "execution_count": 8,
   "metadata": {},
   "outputs": [
    {
     "name": "stdout",
     "output_type": "stream",
     "text": [
      "Index(['Snapshot ID', 'Snapshot Date', 'Checkin Date', 'Days',\n       'Original Price', 'Discount Price', 'Discount Code', 'Available Rooms',\n       'Hotel Name', 'Hotel Stars', 'DayDiff', 'WeekDay', 'DiscountDiff',\n       'DiscountPerc'],\n      dtype='object')\n"
     ]
    },
    {
     "data": {
      "text/plain": [
       "0    11.714771\n1    11.769991\n2     2.974828\n3     4.140311\n4     3.852789\n5     6.337047\n6     5.631188\n7     5.812102\n8     4.378981\n9    11.841326\nName: DiscountPerc, dtype: float64"
      ]
     },
     "execution_count": 8,
     "metadata": {},
     "output_type": "execute_result"
    }
   ],
   "source": [
    "#   4. DiscountPerc - גובה ההנחה באחוזים\n",
    "\n",
    "# Calculate difference to apple price\n",
    "df['DiscountPerc'] = np.array(df['DiscountDiff'] / df['Original Price'] * 100)\n",
    "\n",
    "print(df.columns)\n",
    "df['DiscountPerc'].head(10)\n"
   ]
  },
  {
   "cell_type": "code",
   "execution_count": 9,
   "metadata": {},
   "outputs": [],
   "source": [
    "\n",
    "# dump to new file\n",
    "df.to_csv(new_csv)"
   ]
  },
  {
   "cell_type": "code",
   "execution_count": null,
   "metadata": {},
   "outputs": [],
   "source": []
  }
 ],
 "metadata": {
  "kernelspec": {
   "display_name": "Python 2",
   "language": "python",
   "name": "python2"
  },
  "language_info": {
   "codemirror_mode": {
    "name": "ipython",
    "version": 2
   },
   "file_extension": ".py",
   "mimetype": "text/x-python",
   "name": "python",
   "nbconvert_exporter": "python",
   "pygments_lexer": "ipython2",
   "version": "2.7.6"
  }
 },
 "nbformat": 4,
 "nbformat_minor": 0
}
