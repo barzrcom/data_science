{
 "cells": [
  {
   "cell_type": "code",
   "execution_count": 2,
   "metadata": {
    "collapsed": true
   },
   "outputs": [],
   "source": [
    "import numpy as np\n",
    "import pandas as pd\n",
    "from IPython.display import display\n",
    "import matplotlib.pyplot as plt\n",
    "from datetime import datetime\n",
    "%matplotlib inline"
   ]
  },
  {
   "cell_type": "code",
   "execution_count": 3,
   "metadata": {},
   "outputs": [],
   "source": [
    "old_csv = \"project/resources/hotels_data.csv\"\n",
    "new_csv = \"project/resources/Hotels_data_Changed.csv\""
   ]
  },
  {
   "cell_type": "code",
   "execution_count": 4,
   "metadata": {},
   "outputs": [
    {
     "name": "stdout",
     "output_type": "stream",
     "text": [
      "<class 'pandas.core.frame.DataFrame'>\n",
      "Index(['Snapshot ID', 'Snapshot Date', 'Checkin Date', 'Days',\n",
      "       'Original Price', 'Discount Price', 'Discount Code', 'Available Rooms',\n",
      "       'Hotel Name', 'Hotel Stars'],\n",
      "      dtype='object')\n",
      "(187848, 10)\n"
     ]
    }
   ],
   "source": [
    "# Columns\n",
    "try:\n",
    "    df = pd.read_csv(old_csv)\n",
    "    print(type(df))\n",
    "    print(df.columns)\n",
    "    print(df.shape)\n",
    "except Exception:\n",
    "    print(\"Seems we have a problem\")\n",
    "\n"
   ]
  },
  {
   "cell_type": "code",
   "execution_count": 9,
   "metadata": {},
   "outputs": [
    {
     "name": "stdout",
     "output_type": "stream",
     "text": [
      "Index(['Snapshot ID', 'Snapshot Date', 'Checkin Date', 'Days',\n",
      "       'Original Price', 'Discount Price', 'Discount Code', 'Available Rooms',\n",
      "       'Hotel Name', 'Hotel Stars', 'DayDiff'],\n",
      "      dtype='object')\n"
     ]
    },
    {
     "data": {
      "text/plain": [
       "0    26\n",
       "1    33\n",
       "2    27\n",
       "3     9\n",
       "4    26\n",
       "5    21\n",
       "6    23\n",
       "7    26\n",
       "8    27\n",
       "9     5\n",
       "Name: DayDiff, dtype: int64"
      ]
     },
     "execution_count": 9,
     "metadata": {},
     "output_type": "execute_result"
    }
   ],
   "source": [
    "#   1. DayDiff - מספר הימים בין ה Snapshot Date לבין ה Checkin Date\n",
    "# 7/17/2015 0:00 - 8/12/2015 0:00 = -29\n",
    "\n",
    "df['Snapshot Date'] = pd.to_datetime(df['Snapshot Date'], format=\"%m/%d/%Y 0:00\")\n",
    "df['Checkin Date'] = pd.to_datetime(df['Checkin Date'], format=\"%m/%d/%Y 0:00\")\n",
    "# Calculate difference to apple price\n",
    "df['DayDiff'] = np.array((df['Checkin Date'] - df['Snapshot Date']).dt.days)\n",
    "\n",
    "print(df.columns)\n",
    "df['DayDiff'].head(10)"
   ]
  },
  {
   "cell_type": "code",
   "execution_count": 10,
   "metadata": {},
   "outputs": [
    {
     "name": "stdout",
     "output_type": "stream",
     "text": [
      "Index(['Snapshot ID', 'Snapshot Date', 'Checkin Date', 'Days',\n",
      "       'Original Price', 'Discount Price', 'Discount Code', 'Available Rooms',\n",
      "       'Hotel Name', 'Hotel Stars', 'DayDiff', 'WeekDay'],\n",
      "      dtype='object')\n"
     ]
    },
    {
     "data": {
      "text/plain": [
       "0    Wednesday\n",
       "1    Wednesday\n",
       "2     Thursday\n",
       "3       Sunday\n",
       "4    Wednesday\n",
       "5       Friday\n",
       "6       Sunday\n",
       "7    Wednesday\n",
       "8     Thursday\n",
       "9    Wednesday\n",
       "Name: WeekDay, dtype: object"
      ]
     },
     "execution_count": 10,
     "metadata": {},
     "output_type": "execute_result"
    }
   ],
   "source": [
    "#   2. WeekDay - היום בשבוע (Sun/Mon/Tue/Wed/Thu/Fri/Sat) של ה Checkin Date\n",
    "\n",
    "df['WeekDay'] = df['Checkin Date'].dt.weekday_name\n",
    "\n",
    "print(df.columns)\n",
    "df['WeekDay'].head(10)"
   ]
  },
  {
   "cell_type": "code",
   "execution_count": 11,
   "metadata": {},
   "outputs": [
    {
     "name": "stdout",
     "output_type": "stream",
     "text": [
      "Index(['Snapshot ID', 'Snapshot Date', 'Checkin Date', 'Days',\n",
      "       'Original Price', 'Discount Price', 'Discount Code', 'Available Rooms',\n",
      "       'Hotel Name', 'Hotel Stars', 'DayDiff', 'WeekDay', 'DiscountDiff'],\n",
      "      dtype='object')\n"
     ]
    },
    {
     "data": {
      "text/plain": [
       "0    138\n",
       "1    131\n",
       "2    130\n",
       "3     72\n",
       "4     67\n",
       "5     91\n",
       "6     91\n",
       "7     73\n",
       "8     55\n",
       "9    200\n",
       "Name: DiscountDiff, dtype: int64"
      ]
     },
     "execution_count": 11,
     "metadata": {},
     "output_type": "execute_result"
    }
   ],
   "source": [
    "#   3. DiscountDiff - גובה ההנחה בדולרים (ההפרש בין Original Price ל Discount Price)\n",
    "\n",
    "# Calculate difference to apple price\n",
    "df['DiscountDiff'] = np.array(df['Original Price'] - df['Discount Price'])\n",
    "\n",
    "print(df.columns)\n",
    "df['DiscountDiff'].head(10)\n"
   ]
  },
  {
   "cell_type": "code",
   "execution_count": 12,
   "metadata": {},
   "outputs": [
    {
     "name": "stdout",
     "output_type": "stream",
     "text": [
      "Index(['Snapshot ID', 'Snapshot Date', 'Checkin Date', 'Days',\n",
      "       'Original Price', 'Discount Price', 'Discount Code', 'Available Rooms',\n",
      "       'Hotel Name', 'Hotel Stars', 'DayDiff', 'WeekDay', 'DiscountDiff',\n",
      "       'DiscountPerc'],\n",
      "      dtype='object')\n"
     ]
    },
    {
     "data": {
      "text/plain": [
       "0    11.714771\n",
       "1    11.769991\n",
       "2     2.974828\n",
       "3     4.140311\n",
       "4     3.852789\n",
       "5     6.337047\n",
       "6     5.631188\n",
       "7     5.812102\n",
       "8     4.378981\n",
       "9    11.841326\n",
       "Name: DiscountPerc, dtype: float64"
      ]
     },
     "execution_count": 12,
     "metadata": {},
     "output_type": "execute_result"
    }
   ],
   "source": [
    "#   4. DiscountPerc - גובה ההנחה באחוזים\n",
    "\n",
    "# Calculate difference to apple price\n",
    "df['DiscountPerc'] = np.array(df['DiscountDiff'] / df['Original Price'] * 100)\n",
    "\n",
    "print(df.columns)\n",
    "df['DiscountPerc'].head(10)\n"
   ]
  },
  {
   "cell_type": "code",
   "execution_count": 13,
   "metadata": {},
   "outputs": [],
   "source": [
    "# dump to new file\n",
    "df.to_csv(new_csv)\n"
   ]
  },
  {
   "cell_type": "code",
   "execution_count": null,
   "metadata": {},
   "outputs": [],
   "source": []
  }
 ],
 "metadata": {
  "kernelspec": {
   "display_name": "Python 3",
   "language": "python",
   "name": "python3"
  },
  "language_info": {
   "codemirror_mode": {
    "name": "ipython",
    "version": 3
   },
   "file_extension": ".py",
   "mimetype": "text/x-python",
   "name": "python",
   "nbconvert_exporter": "python",
   "pygments_lexer": "ipython3",
   "version": "3.7.1"
  }
 },
 "nbformat": 4,
 "nbformat_minor": 1
}
