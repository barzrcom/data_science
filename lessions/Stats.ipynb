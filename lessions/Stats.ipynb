{
 "cells": [
  {
   "cell_type": "markdown",
   "metadata": {},
   "source": [
    "# stats lesson"
   ]
  },
  {
   "cell_type": "code",
   "execution_count": 1,
   "metadata": {},
   "outputs": [],
   "source": [
    "import numpy as np"
   ]
  },
  {
   "cell_type": "code",
   "execution_count": 2,
   "metadata": {},
   "outputs": [],
   "source": [
    "incomes = np.random.normal(27000,15000,10000)"
   ]
  },
  {
   "cell_type": "code",
   "execution_count": 3,
   "metadata": {},
   "outputs": [
    {
     "data": {
      "text/plain": [
       "array([54353.19255906, 31624.16474976, 22847.84519534, ...,\n",
       "       38071.34735634, 21155.11814996, 23431.44917189])"
      ]
     },
     "execution_count": 3,
     "metadata": {},
     "output_type": "execute_result"
    }
   ],
   "source": [
    "incomes"
   ]
  },
  {
   "cell_type": "code",
   "execution_count": 4,
   "metadata": {},
   "outputs": [
    {
     "data": {
      "text/plain": [
       "26942.42339593936"
      ]
     },
     "execution_count": 4,
     "metadata": {},
     "output_type": "execute_result"
    }
   ],
   "source": [
    "np.mean(incomes)"
   ]
  },
  {
   "cell_type": "code",
   "execution_count": 5,
   "metadata": {},
   "outputs": [],
   "source": [
    "%matplotlib inline\n",
    "import matplotlib.pyplot as plt"
   ]
  },
  {
   "cell_type": "code",
   "execution_count": 7,
   "metadata": {},
   "outputs": [
    {
     "data": {
      "image/png": "[encoded data removed]",
      "text/plain": [
       "<Figure size 432x288 with 1 Axes>"
      ]
     },
     "metadata": {},
     "output_type": "display_data"
    }
   ],
   "source": [
    "plt.hist(incomes,100)\n",
    "plt.show()"
   ]
  },
  {
   "cell_type": "code",
   "execution_count": 8,
   "metadata": {},
   "outputs": [
    {
     "data": {
      "text/plain": [
       "26811.294141995084"
      ]
     },
     "execution_count": 8,
     "metadata": {},
     "output_type": "execute_result"
    }
   ],
   "source": [
    "np.median(incomes)"
   ]
  },
  {
   "cell_type": "code",
   "execution_count": 9,
   "metadata": {},
   "outputs": [],
   "source": [
    "incomes = np.append(incomes,[10000000000])"
   ]
  },
  {
   "cell_type": "code",
   "execution_count": 10,
   "metadata": {},
   "outputs": [
    {
     "data": {
      "text/plain": [
       "26811.61354899095"
      ]
     },
     "execution_count": 10,
     "metadata": {},
     "output_type": "execute_result"
    }
   ],
   "source": [
    "np.median(incomes)"
   ]
  },
  {
   "cell_type": "code",
   "execution_count": 11,
   "metadata": {},
   "outputs": [
    {
     "data": {
      "text/plain": [
       "1026839.7394219971"
      ]
     },
     "execution_count": 11,
     "metadata": {},
     "output_type": "execute_result"
    }
   ],
   "source": [
    "np.mean(incomes)"
   ]
  },
  {
   "cell_type": "code",
   "execution_count": 12,
   "metadata": {},
   "outputs": [
    {
     "data": {
      "text/plain": [
       "array([30, 24, 62, 71, 62, 71, 37, 58, 75, 47, 19, 58, 22, 32, 26, 59, 75,\n",
       "       58, 86, 89, 29, 44, 35, 54, 76, 42, 27, 33, 33, 69, 51, 74, 55, 83,\n",
       "       44, 84, 37, 76, 64, 46, 76, 74, 51, 66, 32, 50, 65, 75, 75, 66, 54,\n",
       "       35, 62, 61, 75, 30, 72, 58, 56, 33, 50, 32, 28, 42, 53, 55, 82, 71,\n",
       "       85, 84, 55, 76, 65, 39, 71, 68, 28, 60, 47, 76, 74, 84, 62, 86, 23,\n",
       "       82, 35, 82, 43, 37, 64, 34, 43, 52, 88, 82, 32, 54, 41, 87, 85, 67,\n",
       "       40, 46, 70, 65, 25, 48, 31, 79, 24, 18, 86, 47, 32, 80, 49, 35, 85,\n",
       "       81, 42, 53, 67, 76, 65, 58, 19, 64, 76, 73, 48, 43, 62, 32, 56, 54,\n",
       "       80, 36, 41, 42, 49, 71, 85, 83, 26, 70, 23, 89, 64, 41, 51, 86, 45,\n",
       "       83, 28, 79, 41, 83, 69, 33, 59, 43, 88, 88, 67, 82, 26, 21, 65, 34,\n",
       "       44, 69, 55, 72, 54, 63, 27, 20, 23, 65, 32, 48, 33, 84, 46, 26, 80,\n",
       "       56, 22, 23, 36, 24, 54, 87, 56, 62, 88, 66, 84, 66, 43, 68, 74, 82,\n",
       "       48, 52, 31, 71, 19, 67, 70, 18, 33, 51, 79, 35, 67, 21, 31, 67, 65,\n",
       "       86, 39, 19, 27, 35, 29, 25, 61, 39, 65, 70, 46, 69, 52, 23, 60, 75,\n",
       "       69, 86, 33, 52, 24, 69, 28, 56, 82, 68, 36, 46, 67, 27, 50, 76, 20,\n",
       "       40, 78, 53, 54, 76, 18, 32, 39, 53, 58, 47, 35, 62, 46, 80, 46, 38,\n",
       "       77, 71, 58, 40, 78, 27, 43, 44, 88, 20, 78, 76, 18, 74, 78, 86, 55,\n",
       "       31, 74, 76, 61, 76, 43, 52, 85, 37, 62, 28, 33, 48, 62, 22, 39, 87,\n",
       "       69, 26, 76, 82, 69, 35, 51, 76, 61, 86, 71, 59, 24, 49, 63, 67, 23,\n",
       "       47, 78, 84, 21, 48, 63, 32, 80, 26, 23, 23, 36, 85, 84, 59, 70, 59,\n",
       "       18, 44, 23, 49, 64, 59, 47, 31, 49, 63, 76, 39, 73, 61, 66, 45, 44,\n",
       "       73, 24, 58, 59, 35, 84, 22, 58, 52, 78, 66, 88, 87, 52, 53, 75, 82,\n",
       "       33, 59, 26, 48, 64, 19, 69, 48, 26, 42, 33, 83, 80, 74, 84, 28, 74,\n",
       "       49, 74, 51, 82, 53, 64, 51, 18, 54, 65, 78, 68, 86, 60, 46, 64, 72,\n",
       "       74, 44, 38, 35, 42, 74, 77, 58, 46, 76, 72, 49, 72, 60, 21, 67, 60,\n",
       "       60, 87, 75, 36, 57, 43, 44, 41, 55, 38, 80, 61, 85, 77, 23, 69, 76,\n",
       "       64, 81, 80, 89, 29, 69, 23, 30, 74, 62, 19, 59, 62, 37, 58, 68, 50,\n",
       "       34, 48, 55, 45, 59, 85, 69, 32, 20, 56, 48, 30, 53, 55, 78, 50, 50,\n",
       "       65, 61, 48, 30, 45, 36, 57, 63, 53, 38, 47, 61, 36, 21, 69, 19, 71,\n",
       "       43, 25, 21, 39, 20, 79, 51])"
      ]
     },
     "execution_count": 12,
     "metadata": {},
     "output_type": "execute_result"
    }
   ],
   "source": [
    "ages = np.random.randint(18,high=90,size=500)\n",
    "ages"
   ]
  },
  {
   "cell_type": "code",
   "execution_count": 13,
   "metadata": {},
   "outputs": [
    {
     "data": {
      "text/plain": [
       "ModeResult(mode=array([76]), count=array([17]))"
      ]
     },
     "execution_count": 13,
     "metadata": {},
     "output_type": "execute_result"
    }
   ],
   "source": [
    "from scipy import stats\n",
    "stats.mode(ages)"
   ]
  },
  {
   "cell_type": "code",
   "execution_count": 15,
   "metadata": {},
   "outputs": [
    {
     "data": {
      "text/plain": [
       "99989732.69602606"
      ]
     },
     "execution_count": 15,
     "metadata": {},
     "output_type": "execute_result"
    }
   ],
   "source": [
    "incomes.std()"
   ]
  },
  {
   "cell_type": "code",
   "execution_count": 16,
   "metadata": {},
   "outputs": [
    {
     "data": {
      "text/plain": [
       "9997946644622742.0"
      ]
     },
     "execution_count": 16,
     "metadata": {},
     "output_type": "execute_result"
    }
   ],
   "source": [
    "incomes.var()"
   ]
  },
  {
   "cell_type": "code",
   "execution_count": null,
   "metadata": {},
   "outputs": [],
   "source": []
  }
 ],
 "metadata": {
  "kernelspec": {
   "display_name": "Python 3",
   "language": "python",
   "name": "python3"
  },
  "language_info": {
   "codemirror_mode": {
    "name": "ipython",
    "version": 3
   },
   "file_extension": ".py",
   "mimetype": "text/x-python",
   "name": "python",
   "nbconvert_exporter": "python",
   "pygments_lexer": "ipython3",
   "version": "3.6.5"
  }
 },
 "nbformat": 4,
 "nbformat_minor": 2
}
